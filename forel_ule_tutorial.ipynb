{
 "cells": [
  {
   "cell_type": "code",
   "execution_count": 21,
   "metadata": {},
   "outputs": [],
   "source": [
    "__maintainer__ = \"[José M. Beltrán](<jobel.open.science@gmail.com>)\"\n",
    "__modified_from = {\"code\":\"matlab\",\"credits\":\"Shungudzemwoyo Garaba\",\"email\":\"<shungu.garaba@uni-oldenburg.de>\", \"dates\":{\"created\":20110224, \"modified\":20140910}}\n",
    "__credits__ = [\"José M. Beltrán, Tiago A. M. Silva\"]\n",
    "__license__ = \"GPL-3.0\"\n",
    "__status__ = []\n",
    "__creation_date__ = 20150319"
   ]
  },
  {
   "cell_type": "markdown",
   "metadata": {},
   "source": [
    "# Notebook to calculate the Forel-Ule Index\n",
    "\n",
    "It allows you to convert hyperspectral remote sensing data into the Forel-Ule color index.\n",
    "\n",
    "The two articles will provide you with some updated information on the algorithm and constant parameters (FUI_ATAN2.dat or FUI_ATAN210.dat).\n",
    "\n",
    "test.dat is the sample reflectance file"
   ]
  },
  {
   "cell_type": "markdown",
   "metadata": {},
   "source": [
    "**References**:\n",
    "\n",
    "Wernand, M. R., & van der Woerd, H. J. (2010). Spectral analysis of the Forel-Ule ocean colour comparator scale. Journal of the European Optical Society, 5. doi:10.2971/jeos.2010.10014s\n",
    "\n",
    "Wernand, M. R., Hommersom, a., & Van Der Woerd, H. J. (2013). MERIS-based ocean colour classification with the discrete Forel-Ule scale. Ocean Science, 9, 477–487. doi:10.5194/os-9-477-2013"
   ]
  },
  {
   "cell_type": "code",
   "execution_count": 2,
   "metadata": {
    "tags": []
   },
   "outputs": [],
   "source": [
    "import os\n",
    "import pandas as pd\n",
    "from scipy.interpolate import interp1d\n",
    "import matplotlib.pyplot as plt\n",
    "import math\n",
    "import numpy as np"
   ]
  },
  {
   "cell_type": "markdown",
   "metadata": {},
   "source": [
    "[**Notes from the colour and vision research laboratory**](http://www.cvrl.org/)\n",
    "\n",
    "The CIE 1931 2-deg CMFs (CIE, 1932), which form the basis for most practical colorimetry, are based on the chromaticity coordinates obtained by Guild (1931) and by Wright (1928). Chromaticity coordinates, however, provide only a relative measure of the ratios of the three primaries needed to match each spectrum color, whereas CMFs specify absolute energy values. In order to reconstruct the CMFs from the Wright and Guild data, it was assumed that the CIE1924 V(l) photopic luminosity function (CIE, 1926) is a linear combination of the three CMFs (see Wyszecki & Stiles, 1982), for a description of the reconstruction and for the tabulated values. \n",
    "\n",
    "It has long been clear that the CIE1924 V(λ) that was used to construct the CIE 1931 2-deg CMFs **seriously underestimates sensitivity at wavelengths below 460 nm**, so that these CMFs are seriously in error at short wavelengths. The Judd and Judd-Vos modifications are attempts to overcome this problem.\n",
    "\n",
    "The cmf used here are the CIE 1931 CMF with Judd and Vos corrections."
   ]
  },
  {
   "cell_type": "code",
   "execution_count": 3,
   "metadata": {
    "collapsed": false,
    "jupyter": {
     "outputs_hidden": false
    }
   },
   "outputs": [],
   "source": [
    "fui = {\"discrete\":pd.DataFrame(),\"continuous\":[]}\n",
    "fui[\"continuous\"] = pd.read_csv(sep = \"\\t\", filepath_or_buffer = \"data/FUI_ATAN210.tsv\", names = [\"value\", \"alpha\"])\n",
    "# see Table 3 of Wernand et al 2013 to refer to the angles, alpha, of FU number in degrees and\n",
    "# the 20 boundary angles or colour transition angles, alpha_T, that are used in the discrete classification of ocean colour\n",
    "\n",
    "fui[\"discrete\"] = pd.read_csv(sep = \"\\t\", filepath_or_buffer = \"data/FUI_ATAN2.tsv\", names = [\"alpha\",\"alpha_T\",\"value\"])"
   ]
  },
  {
   "cell_type": "code",
   "execution_count": 4,
   "metadata": {
    "collapsed": false,
    "jupyter": {
     "outputs_hidden": false
    }
   },
   "outputs": [
    {
     "data": {
      "text/html": [
       "<div>\n",
       "<style scoped>\n",
       "    .dataframe tbody tr th:only-of-type {\n",
       "        vertical-align: middle;\n",
       "    }\n",
       "\n",
       "    .dataframe tbody tr th {\n",
       "        vertical-align: top;\n",
       "    }\n",
       "\n",
       "    .dataframe thead th {\n",
       "        text-align: right;\n",
       "    }\n",
       "</style>\n",
       "<table border=\"1\" class=\"dataframe\">\n",
       "  <thead>\n",
       "    <tr style=\"text-align: right;\">\n",
       "      <th></th>\n",
       "      <th>alpha</th>\n",
       "      <th>alpha_T</th>\n",
       "      <th>value</th>\n",
       "    </tr>\n",
       "  </thead>\n",
       "  <tbody>\n",
       "    <tr>\n",
       "      <th>0</th>\n",
       "      <td>229.943868</td>\n",
       "      <td>227.677431</td>\n",
       "      <td>1</td>\n",
       "    </tr>\n",
       "    <tr>\n",
       "      <th>1</th>\n",
       "      <td>225.410993</td>\n",
       "      <td>219.271054</td>\n",
       "      <td>2</td>\n",
       "    </tr>\n",
       "    <tr>\n",
       "      <th>2</th>\n",
       "      <td>213.131116</td>\n",
       "      <td>205.190884</td>\n",
       "      <td>3</td>\n",
       "    </tr>\n",
       "    <tr>\n",
       "      <th>3</th>\n",
       "      <td>197.250652</td>\n",
       "      <td>189.202645</td>\n",
       "      <td>4</td>\n",
       "    </tr>\n",
       "    <tr>\n",
       "      <th>4</th>\n",
       "      <td>181.154639</td>\n",
       "      <td>165.707958</td>\n",
       "      <td>5</td>\n",
       "    </tr>\n",
       "  </tbody>\n",
       "</table>\n",
       "</div>"
      ],
      "text/plain": [
       "        alpha     alpha_T  value\n",
       "0  229.943868  227.677431      1\n",
       "1  225.410993  219.271054      2\n",
       "2  213.131116  205.190884      3\n",
       "3  197.250652  189.202645      4\n",
       "4  181.154639  165.707958      5"
      ]
     },
     "execution_count": 4,
     "metadata": {},
     "output_type": "execute_result"
    }
   ],
   "source": [
    "# Showing the first 5 rows in the dataframe\n",
    "fui['discrete'][:5]"
   ]
  },
  {
   "cell_type": "markdown",
   "metadata": {},
   "source": [
    "### Colour matching functions (cmf) \n",
    "\n",
    "$\\tilde{x}, \\tilde{y}, \\tilde{z}$"
   ]
  },
  {
   "cell_type": "code",
   "execution_count": 5,
   "metadata": {},
   "outputs": [],
   "source": [
    "cmf = pd.read_csv(sep = \"\\t\", filepath_or_buffer = \"data/FUI_CIE1931_JV.tsv\")"
   ]
  },
  {
   "cell_type": "code",
   "execution_count": 6,
   "metadata": {
    "collapsed": false,
    "jupyter": {
     "outputs_hidden": false
    }
   },
   "outputs": [
    {
     "data": {
      "text/html": [
       "<div>\n",
       "<style scoped>\n",
       "    .dataframe tbody tr th:only-of-type {\n",
       "        vertical-align: middle;\n",
       "    }\n",
       "\n",
       "    .dataframe tbody tr th {\n",
       "        vertical-align: top;\n",
       "    }\n",
       "\n",
       "    .dataframe thead th {\n",
       "        text-align: right;\n",
       "    }\n",
       "</style>\n",
       "<table border=\"1\" class=\"dataframe\">\n",
       "  <thead>\n",
       "    <tr style=\"text-align: right;\">\n",
       "      <th></th>\n",
       "      <th>wavelength</th>\n",
       "      <th>x</th>\n",
       "      <th>y</th>\n",
       "      <th>z</th>\n",
       "    </tr>\n",
       "  </thead>\n",
       "  <tbody>\n",
       "    <tr>\n",
       "      <th>0</th>\n",
       "      <td>380</td>\n",
       "      <td>0.002690</td>\n",
       "      <td>2.000000e-04</td>\n",
       "      <td>1.226000e-02</td>\n",
       "    </tr>\n",
       "    <tr>\n",
       "      <th>1</th>\n",
       "      <td>385</td>\n",
       "      <td>0.005311</td>\n",
       "      <td>3.955600e-04</td>\n",
       "      <td>2.422200e-02</td>\n",
       "    </tr>\n",
       "    <tr>\n",
       "      <th>2</th>\n",
       "      <td>390</td>\n",
       "      <td>0.010781</td>\n",
       "      <td>8.000000e-04</td>\n",
       "      <td>4.925000e-02</td>\n",
       "    </tr>\n",
       "    <tr>\n",
       "      <th>3</th>\n",
       "      <td>395</td>\n",
       "      <td>0.020792</td>\n",
       "      <td>1.545700e-03</td>\n",
       "      <td>9.513500e-02</td>\n",
       "    </tr>\n",
       "    <tr>\n",
       "      <th>4</th>\n",
       "      <td>400</td>\n",
       "      <td>0.037981</td>\n",
       "      <td>2.800000e-03</td>\n",
       "      <td>1.740900e-01</td>\n",
       "    </tr>\n",
       "    <tr>\n",
       "      <th>...</th>\n",
       "      <td>...</td>\n",
       "      <td>...</td>\n",
       "      <td>...</td>\n",
       "      <td>...</td>\n",
       "    </tr>\n",
       "    <tr>\n",
       "      <th>85</th>\n",
       "      <td>805</td>\n",
       "      <td>0.000007</td>\n",
       "      <td>2.607600e-06</td>\n",
       "      <td>5.862600e-10</td>\n",
       "    </tr>\n",
       "    <tr>\n",
       "      <th>86</th>\n",
       "      <td>810</td>\n",
       "      <td>0.000005</td>\n",
       "      <td>1.836500e-06</td>\n",
       "      <td>4.213800e-10</td>\n",
       "    </tr>\n",
       "    <tr>\n",
       "      <th>87</th>\n",
       "      <td>815</td>\n",
       "      <td>0.000003</td>\n",
       "      <td>1.295000e-06</td>\n",
       "      <td>3.031900e-10</td>\n",
       "    </tr>\n",
       "    <tr>\n",
       "      <th>88</th>\n",
       "      <td>820</td>\n",
       "      <td>0.000002</td>\n",
       "      <td>9.109200e-07</td>\n",
       "      <td>2.175300e-10</td>\n",
       "    </tr>\n",
       "    <tr>\n",
       "      <th>89</th>\n",
       "      <td>825</td>\n",
       "      <td>0.000002</td>\n",
       "      <td>6.356400e-07</td>\n",
       "      <td>1.547600e-10</td>\n",
       "    </tr>\n",
       "  </tbody>\n",
       "</table>\n",
       "<p>90 rows × 4 columns</p>\n",
       "</div>"
      ],
      "text/plain": [
       "    wavelength         x             y             z\n",
       "0          380  0.002690  2.000000e-04  1.226000e-02\n",
       "1          385  0.005311  3.955600e-04  2.422200e-02\n",
       "2          390  0.010781  8.000000e-04  4.925000e-02\n",
       "3          395  0.020792  1.545700e-03  9.513500e-02\n",
       "4          400  0.037981  2.800000e-03  1.740900e-01\n",
       "..         ...       ...           ...           ...\n",
       "85         805  0.000007  2.607600e-06  5.862600e-10\n",
       "86         810  0.000005  1.836500e-06  4.213800e-10\n",
       "87         815  0.000003  1.295000e-06  3.031900e-10\n",
       "88         820  0.000002  9.109200e-07  2.175300e-10\n",
       "89         825  0.000002  6.356400e-07  1.547600e-10\n",
       "\n",
       "[90 rows x 4 columns]"
      ]
     },
     "execution_count": 6,
     "metadata": {},
     "output_type": "execute_result"
    }
   ],
   "source": [
    "cmf"
   ]
  },
  {
   "cell_type": "code",
   "execution_count": 7,
   "metadata": {},
   "outputs": [
    {
     "data": {
      "text/plain": [
       "Text(0.5, 1.0, 'Colour matching functions')"
      ]
     },
     "execution_count": 7,
     "metadata": {},
     "output_type": "execute_result"
    },
    {
     "data": {
      "image/png": "[encoded data removed]",
      "text/plain": [
       "<Figure size 432x288 with 1 Axes>"
      ]
     },
     "metadata": {
      "needs_background": "light"
     },
     "output_type": "display_data"
    }
   ],
   "source": [
    "cmf.plot(x='wavelength', y=['x','y','z'], label=['x','y','z'])\n",
    "plt.legend()\n",
    "plt.title('Colour matching functions')"
   ]
  },
  {
   "cell_type": "code",
   "execution_count": 8,
   "metadata": {},
   "outputs": [],
   "source": [
    "test = pd.read_csv(sep = \"\\t\", filepath_or_buffer = \"data/test.csv\", header = None)\n",
    "# Renaming the columns of the test dataframe\n",
    "test.columns = [\"wavelength\", \"y1\", \"y2\", \"y3\", \"y4\"]\n",
    "#test['y1'] = np.cos(test['y1']/0.0175)"
   ]
  },
  {
   "cell_type": "markdown",
   "metadata": {},
   "source": [
    "**From Wernand et al (2010):**\n",
    "\n",
    "`\"The chromaticity coordinates, based on transmission measurements, of the FU scale and the basic solutions. The white refers to the coordinates equal to 1/3\"`\n",
    "\n",
    "The transmission measurements used a TrIOS spectroradiometer with 4 nm band resolution.\n",
    "\n",
    "**From Wernand et al (2013):**\n",
    "\n",
    "`\"Because MERIS does not provide full-spectral range coverage, the reflection spectrum is first reconstructed by linear interpolation between band n=1 (412.5 nm) and band n=9 (708) with a resolution of 1 nm\"`"
   ]
  },
  {
   "cell_type": "code",
   "execution_count": 9,
   "metadata": {
    "collapsed": false,
    "jupyter": {
     "outputs_hidden": false
    }
   },
   "outputs": [],
   "source": [
    "#the interpolating part \n",
    "Delta_lambda = 5 # 1nm bins\n",
    "# adds +4 as it should include 720 resulting in 86 values, i.e. matching the len(cmf).\n",
    "iwavelength = np.array(range(380, 720 + Delta_lambda, Delta_lambda)) \n"
   ]
  },
  {
   "cell_type": "code",
   "execution_count": 10,
   "metadata": {},
   "outputs": [],
   "source": [
    "# retrieving the reflectance values for lambda 380-720nm\n",
    "irho = interp1d(test[\"wavelength\"], test[\"y1\"], kind = 'linear')(iwavelength)"
   ]
  },
  {
   "cell_type": "code",
   "execution_count": 11,
   "metadata": {},
   "outputs": [
    {
     "data": {
      "text/plain": [
       "<matplotlib.legend.Legend at 0x1d2ab260ac0>"
      ]
     },
     "execution_count": 11,
     "metadata": {},
     "output_type": "execute_result"
    },
    {
     "data": {
      "image/png": "[encoded data removed]",
      "text/plain": [
       "<Figure size 432x288 with 1 Axes>"
      ]
     },
     "metadata": {
      "needs_background": "light"
     },
     "output_type": "display_data"
    }
   ],
   "source": [
    "test.plot(x='wavelength', y='y1', kind='scatter', marker ='.', c='k')\n",
    "plt.plot(iwavelength, irho, 'o')\n",
    "plt.title('Test spectrum')\n",
    "plt.legend(['original test data','interpolated to cmf'])"
   ]
  },
  {
   "cell_type": "code",
   "execution_count": 12,
   "metadata": {},
   "outputs": [
    {
     "name": "stdout",
     "output_type": "stream",
     "text": [
      "wavelength overlap 380 720\n"
     ]
    }
   ],
   "source": [
    "# find overping wavelengths between cmf and multispectral image\n",
    "start = max([cmf['wavelength'].iloc[0], iwavelength.min()])\n",
    "end = min([cmf['wavelength'].iloc[-1], iwavelength.max()])\n",
    "print('wavelength overlap', start,end)\n",
    "cmf = cmf[ (cmf['wavelength'] >= start) & (cmf['wavelength'] <= end) ]"
   ]
  },
  {
   "cell_type": "markdown",
   "metadata": {},
   "source": [
    "# Calculating the tristimulus values for X, Y and Z by Riemann sum approximation of the integrals with $\\Delta\\lambda$ = 1 nm\n",
    "\n",
    "$$\n",
    "X = \\sum_{i=413}^{708} [\\rho_w]_N(\\lambda_i)\\tilde{x}(\\lambda)\\Delta\\lambda \\\\\n",
    "Y = \\sum_{i=413}^{708} [\\rho_w]_N(\\lambda_i)\\tilde{y}(\\lambda)\\Delta\\lambda \\\\\n",
    "Z = \\sum_{i=413}^{708} [\\rho_w]_N(\\lambda_i)\\tilde{z}(\\lambda)\\Delta\\lambda\n",
    "$$"
   ]
  },
  {
   "cell_type": "code",
   "execution_count": 13,
   "metadata": {
    "collapsed": false,
    "jupyter": {
     "outputs_hidden": false
    }
   },
   "outputs": [],
   "source": [
    "# Creating a dictionary to hold the reflectance values aas tristimulus\n",
    "r = {\"X\": [], \"Y\": [], \"Z\": []}\n",
    "# ------- R_RS * cmf\n",
    "for i in range(0, len(cmf)):\n",
    "    r[\"X\"] = irho * cmf[\"x\"]\n",
    "    r[\"Y\"] = irho * cmf[\"y\"]\n",
    "    r[\"Z\"] = irho * cmf[\"z\"]"
   ]
  },
  {
   "cell_type": "code",
   "execution_count": 14,
   "metadata": {
    "collapsed": false,
    "jupyter": {
     "outputs_hidden": false
    }
   },
   "outputs": [],
   "source": [
    "# ------ Sum\n",
    "s = {\"X\": [], \"Y\": [], \"Z\": []}\n",
    "\n",
    "s[\"X\"] = sum(r[\"X\"] * Delta_lambda)\n",
    "s[\"Y\"] = sum(r[\"Y\"] * Delta_lambda)\n",
    "s[\"Z\"] = sum(r[\"Z\"] * Delta_lambda)\n",
    "\n",
    "sum_xyz = s[\"X\"] + s[\"Y\"] + s[\"Z\"]"
   ]
  },
  {
   "cell_type": "code",
   "execution_count": 15,
   "metadata": {
    "collapsed": false,
    "jupyter": {
     "outputs_hidden": false
    }
   },
   "outputs": [],
   "source": [
    "# ------ chromaticity\n",
    "chrom = {\"x\": [], \"y\": [], \"z\": []}\n",
    "chrom[\"x\"] = s[\"X\"] / sum_xyz\n",
    "chrom[\"y\"] = s[\"Y\"] / sum_xyz\n",
    "chrom[\"z\"] = s[\"Z\"] / sum_xyz\n",
    "\n",
    "sum_chrom_y = chrom[\"x\"] + chrom[\"y\"] + chrom[\"z\"]"
   ]
  },
  {
   "cell_type": "code",
   "execution_count": 16,
   "metadata": {},
   "outputs": [],
   "source": [
    "# ______ chromaticity - whiteness\n",
    "chrom_w = {\"x\": [], \"y\": []}\n",
    "chrom_w[\"x\"] = chrom[\"x\"] - (1 / 3)\n",
    "chrom_w[\"y\"] = chrom[\"y\"] - (1 / 3)"
   ]
  },
  {
   "cell_type": "code",
   "execution_count": 17,
   "metadata": {},
   "outputs": [],
   "source": [
    "# ______ calculate atan2\n",
    "# we use the average atan per scale\n",
    "# a_i, refers to the alpha M angle\n",
    "a_i = math.atan2(chrom_w[\"y\"], chrom_w[\"x\"]) * 180 / math.pi\n",
    "\n",
    "if a_i < 0:\n",
    "    a_i = a_i + 360\n",
    "else:\n",
    "    a_i = a_i"
   ]
  },
  {
   "cell_type": "code",
   "execution_count": 18,
   "metadata": {},
   "outputs": [],
   "source": [
    "# ----- fui approximation\n",
    "\n",
    "if a_i >= fui[\"continuous\"][\"alpha\"][0]:  # FUI = 1 its > Average\n",
    "    fu_i = 1.0\n",
    "elif math.isnan(a_i):  # FUI = NAN = 0\n",
    "    fu_i = 0\n",
    "elif a_i <= fui[\"continuous\"][\"alpha\"][200]:  # FUI = 21\n",
    "    fu_i = 21.0\n",
    "else:\n",
    "    for c in range(0, 200):\n",
    "        if (fui[\"continuous\"][\"alpha\"][c] > a_i) and (a_i >= fui[\"continuous\"][\"alpha\"][c + 1]):\n",
    "            fu_i = fui[\"continuous\"][\"value\"][c + 1]"
   ]
  },
  {
   "cell_type": "code",
   "execution_count": 19,
   "metadata": {
    "collapsed": false,
    "jupyter": {
     "outputs_hidden": false
    }
   },
   "outputs": [
    {
     "data": {
      "text/plain": [
       "18.1"
      ]
     },
     "execution_count": 19,
     "metadata": {},
     "output_type": "execute_result"
    }
   ],
   "source": [
    "# The calculated FUI is\n",
    "fu_i"
   ]
  },
  {
   "cell_type": "code",
   "execution_count": null,
   "metadata": {},
   "outputs": [],
   "source": []
  }
 ],
 "metadata": {
  "kernelspec": {
   "display_name": "Python 3 (ipykernel)",
   "language": "python",
   "name": "python3"
  },
  "language_info": {
   "codemirror_mode": {
    "name": "ipython",
    "version": 3
   },
   "file_extension": ".py",
   "mimetype": "text/x-python",
   "name": "python",
   "nbconvert_exporter": "python",
   "pygments_lexer": "ipython3",
   "version": "3.8.13"
  }
 },
 "nbformat": 4,
 "nbformat_minor": 4
}
