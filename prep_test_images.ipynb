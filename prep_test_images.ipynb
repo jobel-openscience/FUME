{
 "cells": [
  {
   "cell_type": "markdown",
   "id": "22a1d310-406c-4982-85d7-9791608aba82",
   "metadata": {},
   "source": [
    "# Prepare test  satellite images "
   ]
  },
  {
   "cell_type": "code",
   "execution_count": null,
   "id": "df097b81-1a34-4e3e-9243-a3cf0f49eefd",
   "metadata": {},
   "outputs": [],
   "source": [
    "import xarray as xr\n",
    "import matplotlib.pyplot as plt\n",
    "from pathlib import Path"
   ]
  },
  {
   "cell_type": "code",
   "execution_count": null,
   "id": "6d65a629-1d79-4593-8e39-683b049bdd29",
   "metadata": {},
   "outputs": [],
   "source": [
    "# prepare test dataset\n",
    "polymer = xr.open_dataset(\n",
    "    Path.home() / \n",
    "    Path('Documents/temp/ForelUle/polymer/S3A_OL_1_EFR____20200506T104005_20200506T104305_20200507T143731_0179_058_051_1980_LN1_O_NT_002.SEN3.nc')\n",
    ")\n",
    "\n",
    "# Restrict to Liverpool Bay\n",
    "polymer = polymer.isel(height=slice(3200,3400),width=slice(2400,2650))\n",
    "\n",
    "# Swir bands not useful for water classification\n",
    "polymer = polymer.drop(['Rnir','Rgli','logchl','bbs','Rw865','Rw1020'])\n",
    "\n",
    "plt.imshow(polymer['Rw560'],vmax=polymer['Rw560'].quantile(0.95))\n",
    "plt.colorbar()\n",
    "\n",
    "#Save to new netcdf file \n",
    "polymer.to_netcdf('data/S3A_OL_20200506T104005_20200506T104305_20200507T143731_0179_058_051_1980_LN1_O_NT_002.polymer.LivBay.nc')"
   ]
  },
  {
   "cell_type": "code",
   "execution_count": null,
   "id": "c21b6910-3c9b-4028-a4dc-50823b80c226",
   "metadata": {},
   "outputs": [],
   "source": [
    "l2 = xr.open_dataset( \n",
    "    Path.home() / \n",
    "    Path('Documents/temp/ForelUle/subset_2_of_S3A_OL_2_WFR____20200506T104005_20200506T104305_20200507T211159_0179_058_051_1980_MAR_O_NT_002_resampled.nc')\n",
    ")\n",
    "\n",
    "#remove unwanted variables\n",
    "for var in l2:\n",
    "    if not var.endswith('reflectance') and not (var in ['latitude','longitude']):\n",
    "        l2 = l2.drop(var)\n",
    "        \n",
    "plt.imshow(l2['Oa06_reflectance'],vmin=0,vmax=l2['Oa06_reflectance'].quantile(0.95))\n",
    "plt.colorbar()        \n",
    "\n",
    "l2.to_netcdf('data/S3A_OL_2_WFR____20200506T104005_20200506T104305_20200507T211159_0179_058_051_1980_MAR_O_NT_002.LivBay.nc')"
   ]
  },
  {
   "cell_type": "code",
   "execution_count": null,
   "id": "6ff6245e-a8ab-4ee4-8b13-c6b555fcbe9b",
   "metadata": {},
   "outputs": [],
   "source": []
  }
 ],
 "metadata": {
  "kernelspec": {
   "display_name": "Python 3 (ipykernel)",
   "language": "python",
   "name": "python3"
  },
  "language_info": {
   "codemirror_mode": {
    "name": "ipython",
    "version": 3
   },
   "file_extension": ".py",
   "mimetype": "text/x-python",
   "name": "python",
   "nbconvert_exporter": "python",
   "pygments_lexer": "ipython3",
   "version": "3.7.10"
  }
 },
 "nbformat": 4,
 "nbformat_minor": 5
}
