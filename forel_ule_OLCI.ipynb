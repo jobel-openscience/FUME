{
 "cells": [
  {
   "cell_type": "markdown",
   "metadata": {
    "tags": []
   },
   "source": [
    "# Notebook to calculate the Forel-Ule Index from Sentinel-3 OLCI images"
   ]
  },
  {
   "cell_type": "markdown",
   "metadata": {},
   "source": [
    "**Reference** :\n",
    "Wernand, M. R., Hommersom, a., & Van Der Woerd, H. J. (2013). MERIS-based ocean colour classification with the discrete Forel-Ule scale. Ocean Science, 9, 477–487. doi:10.5194/os-9-477-2013"
   ]
  },
  {
   "cell_type": "code",
   "execution_count": null,
   "metadata": {
    "tags": []
   },
   "outputs": [],
   "source": [
    "import matplotlib.pyplot as plt\n",
    "from matplotlib import cm\n",
    "import xarray as xr\n",
    "import fume"
   ]
  },
  {
   "cell_type": "markdown",
   "metadata": {},
   "source": [
    "## Output of Hygeos Polymer atmospheric correction\n",
    "### Load test image for Lierpool Bay, UK"
   ]
  },
  {
   "cell_type": "code",
   "execution_count": null,
   "metadata": {},
   "outputs": [],
   "source": [
    "# load test dataset\n",
    "polymer = xr.open_dataset('data/S3A_OL_20200506T104005_20200506T104305_20200507T143731_0179_058_051_1980_LN1_O_NT_002.polymer.LivBay.nc')\n",
    "redb='Rw665'\n",
    "greenb='Rw560'\n",
    "blueb='Rw443'\n",
    "\n",
    "fig, axs = plt.subplots(nrows=1,ncols=2,figsize=(10,4))\n",
    "\n",
    "m = axs[0].imshow(polymer[greenb],\n",
    "           vmin=polymer[greenb].quantile(0.05),\n",
    "           vmax=polymer[blueb].quantile(0.95))\n",
    "fig.colorbar(m,ax=axs[0])\n",
    "axs[0].set_title(greenb);\n",
    "\n",
    "rgb = xr.concat([polymer[redb], \n",
    "                 polymer[greenb],\n",
    "                 polymer[blueb]],\n",
    "                dim='rgb').transpose('height','width','rgb')\n",
    "axs[1].imshow(rgb/rgb.quantile(0.95))\n",
    "axs[1].set_title(f'RGB');"
   ]
  },
  {
   "cell_type": "code",
   "execution_count": null,
   "metadata": {},
   "outputs": [],
   "source": [
    "# Extract wavelengths from band names\n",
    "wavelength = []\n",
    "bandid = []\n",
    "reflectance_name = 'Rw'\n",
    "for var in polymer.data_vars:\n",
    "    if reflectance_name in var:\n",
    "        bandid.append(var)\n",
    "        wavelength.append( int ( var.replace(reflectance_name,'') ) )\n",
    "\n",
    "# Create a 3-D array along wavelength dimension\n",
    "Rw = xr.concat( [polymer[id] for id in bandid] ,dim='wavelength')\n",
    "Rw.name = 'Rw'\n",
    "Rw = Rw.assign_coords(wavelength=wavelength)"
   ]
  },
  {
   "cell_type": "code",
   "execution_count": null,
   "metadata": {},
   "outputs": [],
   "source": [
    "polymer_fu_i = fume.calc_ForelUle_image(Rw.coords['wavelength'].values, Rw)\n",
    "plt.imshow(polymer_fu_i, cmap=cm.get_cmap('jet', 21))\n",
    "plt.colorbar()\n",
    "plt.title('Forel Ule classes');"
   ]
  },
  {
   "cell_type": "markdown",
   "metadata": {},
   "source": [
    "## L2 atmosperically corrected image from EUMETSAT\n",
    "### Load test image for Lierpool Bay, UK"
   ]
  },
  {
   "cell_type": "code",
   "execution_count": null,
   "metadata": {},
   "outputs": [],
   "source": [
    "# load test dataset\n",
    "l2 = xr.open_dataset('data/S3A_OL_2_WFR____20200506T104005_20200506T104305_20200507T211159_0179_058_051_1980_MAR_O_NT_002.LivBay.nc')\n",
    "redb='Oa03_reflectance'\n",
    "greenb='Oa06_reflectance'\n",
    "blueb='Oa08_reflectance'\n",
    "\n",
    "fig, axs = plt.subplots(nrows=1,ncols=2,figsize=(10,4))\n",
    "\n",
    "m = axs[0].imshow(l2[greenb],\n",
    "           vmin=l2[greenb].quantile(0.05),\n",
    "           vmax=l2[blueb].quantile(0.95))\n",
    "fig.colorbar(m, ax=axs[0])\n",
    "axs[0].set_title(greenb);\n",
    "\n",
    "rgb = xr.concat([l2[redb], \n",
    "                 l2[greenb],\n",
    "                 l2[blueb]],\n",
    "                dim='rgb').transpose('y','x','rgb')\n",
    "axs[1].imshow(rgb/rgb.quantile(0.95))\n",
    "axs[1].set_title(f'RGB');"
   ]
  },
  {
   "cell_type": "code",
   "execution_count": null,
   "metadata": {},
   "outputs": [],
   "source": [
    "# Extract wavelengths from band attributes\n",
    "wavelength = []\n",
    "bandid = []\n",
    "reflectance_name = '_reflectance'\n",
    "for var in l2.data_vars:\n",
    "    if reflectance_name in var:\n",
    "        bandid.append(var)\n",
    "        wavelength.append( float(l2[var].attrs['radiation_wavelength']) )\n",
    "\n",
    "# Create a 3-D array along wavelength dimension\n",
    "Rw = xr.concat( [l2[id] for id in bandid] ,dim='wavelength')\n",
    "Rw.name = 'Rw'\n",
    "Rw = Rw.assign_coords(wavelength=wavelength)"
   ]
  },
  {
   "cell_type": "markdown",
   "metadata": {},
   "source": [
    "## Calculate Forel Ule index"
   ]
  },
  {
   "cell_type": "code",
   "execution_count": null,
   "metadata": {},
   "outputs": [],
   "source": [
    "l2_fu_i = fume.calc_ForelUle_image(Rw.coords['wavelength'].values, Rw)\n",
    "plt.imshow(l2_fu_i, cmap=cm.get_cmap('jet', 21))\n",
    "plt.colorbar()\n",
    "plt.title('Forel Ule classes');"
   ]
  },
  {
   "cell_type": "markdown",
   "metadata": {},
   "source": [
    "# Compare Forel Ule indexes"
   ]
  },
  {
   "cell_type": "code",
   "execution_count": null,
   "metadata": {},
   "outputs": [],
   "source": [
    "fig, axs = plt.subplots(nrows=1,ncols=2,figsize=(12,4))\n",
    "\n",
    "\n",
    "m = axs[0].imshow(polymer_fu_i, cmap=cm.get_cmap('jet', 21))\n",
    "fig.colorbar(m,ax=axs[0])\n",
    "axs[0].set_title('L2 Polymer')\n",
    "\n",
    "m = axs[1].imshow(l2_fu_i, cmap=cm.get_cmap('jet', 21))\n",
    "fig.colorbar(m,ax=axs[1])\n",
    "axs[1].set_title('L2 Baseline')\n",
    "\n",
    "fig.savefig('FU_AC_LivBay_comparison.png')"
   ]
  },
  {
   "cell_type": "code",
   "execution_count": null,
   "metadata": {},
   "outputs": [],
   "source": []
  }
 ],
 "metadata": {
  "kernelspec": {
   "display_name": "Python 3 (ipykernel)",
   "language": "python",
   "name": "python3"
  },
  "language_info": {
   "codemirror_mode": {
    "name": "ipython",
    "version": 3
   },
   "file_extension": ".py",
   "mimetype": "text/x-python",
   "name": "python",
   "nbconvert_exporter": "python",
   "pygments_lexer": "ipython3",
   "version": "3.7.10"
  }
 },
 "nbformat": 4,
 "nbformat_minor": 4
}
