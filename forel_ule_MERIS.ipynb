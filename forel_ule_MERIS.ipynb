{
 "cells": [
  {
   "cell_type": "code",
   "execution_count": 1,
   "metadata": {
    "collapsed": true
   },
   "outputs": [],
   "source": [
    "__maintainer__ = \"[José M. Beltrán](<jobel.open.science@gmail.com>)\"\n",
    "__modified_from = {\"code\":\"matlab\",\"credits\":\"Shungudzemwoyo Garaba\",\"email\":\"<shungu.garaba@uni-oldenburg.de>\", \"dates\":{\"created\":20110224, \"modified\":20140910}}\n",
    "__credits__ = [\"José M. Beltrán\"]\n",
    "__license__ = \"GPL-3.0\"\n",
    "__status__ = []\n",
    "__creation_date__ = 20150319\n",
    "__modified__= 20150319"
   ]
  },
  {
   "cell_type": "markdown",
   "metadata": {},
   "source": [
    "# Notebook to calculate the Forel-Ule Index using MERIS datasets\n",
    "\n",
    "It allows you to convert hyperspectral remote sensing data into the Forel-Ule color index.\n",
    "\n",
    "The two articles will provide you with some updated information on the algorithm and constant parameters (FUI_ATAN2.dat or FUI_ATAN210.dat).\n",
    "\n",
    "Run the Compute_FUI.m function you will get a discrete FUI and test.dat is the sample reflectance file\n",
    "But If you run the Compute_FUI_new.m you will get a continuous FUI \n",
    "\n",
    "The rgb_scale is the one I used to display the colors 1-21."
   ]
  },
  {
   "cell_type": "markdown",
   "metadata": {},
   "source": [
    "**References**:\n",
    "\n",
    "Wernand, M. R., & van der Woerd, H. J. (2010). Spectral analysis of the Forel-Ule ocean colour comparator scale. Journal of the European Optical Society, 5. doi:10.2971/jeos.2010.10014s\n",
    "\n",
    "Wernand, M. R., Hommersom, a., & Van Der Woerd, H. J. (2013). MERIS-based ocean colour classification with the discrete Forel-Ule scale. Ocean Science, 9, 477–487. doi:10.5194/os-9-477-2013"
   ]
  },
  {
   "cell_type": "markdown",
   "metadata": {},
   "source": [
    "**MERIS** Central wavelengths for the first 9 MERIS spectral bands with band width 10 nm, but band 8 with 7.5 nm.\n",
    "$$\n",
    "\\begin(array)\n",
    "MERIS & Wavelength & MERIS & Wavelength \n",
    "band & (nm) & band & (nm)\n",
    "--- & --- & --- & ---\n",
    "1 & 412.5 & 6 & 620 \n",
    "2 & 442.5 & 7 & 665 \n",
    "4 & 510 & 9 & 708\n",
    "5 & 560 &   &\n",
    "\\end(array)\n",
    "$$\n"
   ]
  },
  {
   "cell_type": "code",
   "execution_count": 1,
   "metadata": {
    "collapsed": true
   },
   "outputs": [],
   "source": [
    "# Keeping a local mathjax for Latex rendering\n",
    "from IPython.external import mathjax  #mathjax.install_mathjax()"
   ]
  },
  {
   "cell_type": "code",
   "execution_count": 1,
   "metadata": {
    "collapsed": true
   },
   "outputs": [],
   "source": [
    "import os\n",
    "import pandas as pd\n",
    "from scipy.interpolate import interp1d\n",
    "import math"
   ]
  },
  {
   "cell_type": "code",
   "execution_count": 3,
   "metadata": {
    "collapsed": true
   },
   "outputs": [],
   "source": [
    "# Set the current working directory\n",
    "os.chdir('/home/jobel/gits/jobel/FUME')"
   ]
  },
  {
   "cell_type": "markdown",
   "metadata": {
    "collapsed": true
   },
   "source": [
    "[**Notes from the colour and vision research laboratory**](http://www.cvrl.org/)\n",
    "\n",
    "The CIE 1931 2-deg CMFs (CIE, 1932), which form the basis for most practical colorimetry, are based on the chromaticity coordinates obtained by Guild (1931) and by Wright (1928). Chromaticity coordinates, however, provide only a relative measure of the ratios of the three primaries needed to match each spectrum color, whereas CMFs specify absolute energy values. In order to reconstruct the CMFs from the Wright and Guild data, it was assumed that the CIE1924 V(l) photopic luminosity function (CIE, 1926) is a linear combination of the three CMFs (see Wyszecki & Stiles, 1982), for a description of the reconstruction and for the tabulated values. \n",
    "\n",
    "It has long been clear that the CIE1924 V(λ) that was used to construct the CIE 1931 2-deg CMFs **seriously underestimates sensitivity at wavelengths below 460 nm**, so that these CMFs are seriously in error at short wavelengths. The Judd and Judd-Vos modifications are attempts to overcome this problem.\n"
   ]
  },
  {
   "cell_type": "code",
   "execution_count": 4,
   "metadata": {
    "collapsed": false
   },
   "outputs": [],
   "source": [
    "fui = {\"discrete\":pd.DataFrame(),\"continuous\":[]}\n",
    "fui[\"continuous\"] = pd.read_csv(sep = \"\\t\", filepath_or_buffer = \"./data/FUI_ATAN210.tsv\", names = [\"value\", \"alpha\"])\n",
    "# see Table 3 of Wernand et al 2013 to refer to the angles, alpha, of FU number in degrees and\n",
    "# the 20 boundary angles or colour transition angles, alpha_T, that are used in the discrete classification of ocean colour\n",
    "\n",
    "fui[\"discrete\"] = pd.read_csv(sep = \"\\t\", filepath_or_buffer = \"./data/FUI_ATAN2.tsv\", names = [\"alpha\",\"alpha_T\",\"value\"])"
   ]
  },
  {
   "cell_type": "code",
   "execution_count": 5,
   "metadata": {
    "collapsed": false
   },
   "outputs": [
    {
     "data": {
      "text/html": [
       "<div style=\"max-height:1000px;max-width:1500px;overflow:auto;\">\n",
       "<table border=\"1\" class=\"dataframe\">\n",
       "  <thead>\n",
       "    <tr style=\"text-align: right;\">\n",
       "      <th></th>\n",
       "      <th>alpha</th>\n",
       "      <th>alpha_T</th>\n",
       "      <th>value</th>\n",
       "    </tr>\n",
       "  </thead>\n",
       "  <tbody>\n",
       "    <tr>\n",
       "      <th>0</th>\n",
       "      <td> 229.943868</td>\n",
       "      <td> 227.677431</td>\n",
       "      <td> 1</td>\n",
       "    </tr>\n",
       "    <tr>\n",
       "      <th>1</th>\n",
       "      <td> 225.410993</td>\n",
       "      <td> 219.271054</td>\n",
       "      <td> 2</td>\n",
       "    </tr>\n",
       "    <tr>\n",
       "      <th>2</th>\n",
       "      <td> 213.131116</td>\n",
       "      <td> 205.190884</td>\n",
       "      <td> 3</td>\n",
       "    </tr>\n",
       "    <tr>\n",
       "      <th>3</th>\n",
       "      <td> 197.250652</td>\n",
       "      <td> 189.202646</td>\n",
       "      <td> 4</td>\n",
       "    </tr>\n",
       "    <tr>\n",
       "      <th>4</th>\n",
       "      <td> 181.154639</td>\n",
       "      <td> 165.707958</td>\n",
       "      <td> 5</td>\n",
       "    </tr>\n",
       "  </tbody>\n",
       "</table>\n",
       "</div>"
      ],
      "text/plain": [
       "        alpha     alpha_T  value\n",
       "0  229.943868  227.677431      1\n",
       "1  225.410993  219.271054      2\n",
       "2  213.131116  205.190884      3\n",
       "3  197.250652  189.202646      4\n",
       "4  181.154639  165.707958      5"
      ]
     },
     "execution_count": 5,
     "metadata": {},
     "output_type": "execute_result"
    }
   ],
   "source": [
    "# Showing the first 5 rows in the dataframe\n",
    "fui['discrete'][:5]"
   ]
  },
  {
   "cell_type": "markdown",
   "metadata": {},
   "source": [
    "### Colour matching functions (cmf) \n",
    "\n",
    "$\\tilde{x}, \\tilde{y}, \\tilde{z}$"
   ]
  },
  {
   "cell_type": "code",
   "execution_count": 6,
   "metadata": {
    "collapsed": true
   },
   "outputs": [],
   "source": [
    "cmf = pd.read_csv(sep = \"\\t\", filepath_or_buffer = \"./FUI_CIE1931.csv\", names = [\"wavelength\", \"x\", \"y\", \"z\"])"
   ]
  },
  {
   "cell_type": "code",
   "execution_count": 7,
   "metadata": {
    "collapsed": false
   },
   "outputs": [
    {
     "data": {
      "text/html": [
       "<div style=\"max-height:1000px;max-width:1500px;overflow:auto;\">\n",
       "<table border=\"1\" class=\"dataframe\">\n",
       "  <thead>\n",
       "    <tr style=\"text-align: right;\">\n",
       "      <th></th>\n",
       "      <th>wavelength</th>\n",
       "      <th>x</th>\n",
       "      <th>y</th>\n",
       "      <th>z</th>\n",
       "    </tr>\n",
       "  </thead>\n",
       "  <tbody>\n",
       "    <tr>\n",
       "      <th>0</th>\n",
       "      <td> 380</td>\n",
       "      <td> 0.001368</td>\n",
       "      <td> 0.000039</td>\n",
       "      <td> 0.006450</td>\n",
       "    </tr>\n",
       "    <tr>\n",
       "      <th>1</th>\n",
       "      <td> 384</td>\n",
       "      <td> 0.001996</td>\n",
       "      <td> 0.000057</td>\n",
       "      <td> 0.009415</td>\n",
       "    </tr>\n",
       "    <tr>\n",
       "      <th>2</th>\n",
       "      <td> 388</td>\n",
       "      <td> 0.003301</td>\n",
       "      <td> 0.000094</td>\n",
       "      <td> 0.015588</td>\n",
       "    </tr>\n",
       "    <tr>\n",
       "      <th>3</th>\n",
       "      <td> 392</td>\n",
       "      <td> 0.005330</td>\n",
       "      <td> 0.000151</td>\n",
       "      <td> 0.025203</td>\n",
       "    </tr>\n",
       "    <tr>\n",
       "      <th>4</th>\n",
       "      <td> 396</td>\n",
       "      <td> 0.008751</td>\n",
       "      <td> 0.000247</td>\n",
       "      <td> 0.041438</td>\n",
       "    </tr>\n",
       "  </tbody>\n",
       "</table>\n",
       "</div>"
      ],
      "text/plain": [
       "   wavelength         x         y         z\n",
       "0         380  0.001368  0.000039  0.006450\n",
       "1         384  0.001996  0.000057  0.009415\n",
       "2         388  0.003301  0.000094  0.015588\n",
       "3         392  0.005330  0.000151  0.025203\n",
       "4         396  0.008751  0.000247  0.041438"
      ]
     },
     "execution_count": 7,
     "metadata": {},
     "output_type": "execute_result"
    }
   ],
   "source": [
    "cmf[:5]"
   ]
  },
  {
   "cell_type": "code",
   "execution_count": 8,
   "metadata": {
    "collapsed": true
   },
   "outputs": [],
   "source": [
    "test = pd.read_csv(sep = \"\\t\", filepath_or_buffer = \"./test.csv\", header = None)\n",
    "# Renaming the columns of the test dataframe\n",
    "test.columns = [\"wavelength\", \"y1\", \"y2\", \"y3\", \"y4\"]"
   ]
  },
  {
   "cell_type": "markdown",
   "metadata": {},
   "source": [
    "**From Wernand et al (2010):**\n",
    "\n",
    "`\"The chromaticity coordinates, based on transmission measurements, of the FU scale and the basic solutions. The white refers to the coordinates equal to 1/3\"`\n",
    "\n",
    "The transmission measurements used a TrIOS spectroradiometer with 4 nm band resolution.\n",
    "\n",
    "**From Wernand et al (2013):**\n",
    "\n",
    "`\"Because MERIS does not provide full-spectral range coverage, the reflection spectrum is first reconstructed by linear interpolation between band n=1 (412.5 nm) and band n=9 (708) with a resolution of 1 nm\"`"
   ]
  },
  {
   "cell_type": "code",
   "execution_count": 9,
   "metadata": {
    "collapsed": false
   },
   "outputs": [],
   "source": [
    "#the interpolating part \n",
    "Delta_lambda = 4 # 1nm bins\n",
    "# adds +4 as it should include 720 resulting in 86 values, i.e. matching the len(cmf).\n",
    "iwavelength = range(380, 720 + Delta_lambda, Delta_lambda)  \n",
    "#range(413, 708 + Delta_lambda, Delta_lambda)  \n"
   ]
  },
  {
   "cell_type": "code",
   "execution_count": 10,
   "metadata": {
    "collapsed": true
   },
   "outputs": [],
   "source": [
    "# retrieving the reflectance values for lambda 380-720nm\n",
    "irho = interp1d(test[\"wavelength\"], test[\"y1\"], kind = 'linear')(iwavelength)"
   ]
  },
  {
   "cell_type": "markdown",
   "metadata": {},
   "source": [
    "# Calculating the tristimulus values for X, Y and Z by Riemann sum approximation of the integrals with $\\Delta\\lambda$ = 1 nm\n",
    "\n",
    "$$\n",
    "X = \\sum_{i=413}^{708} [\\rho_w]_N(\\lambda_i)\\tilde{x}(\\lambda)\\Delta\\lambda \\\\\n",
    "Y = \\sum_{i=413}^{708} [\\rho_w]_N(\\lambda_i)\\tilde{y}(\\lambda)\\Delta\\lambda \\\\\n",
    "Z = \\sum_{i=413}^{708} [\\rho_w]_N(\\lambda_i)\\tilde{z}(\\lambda)\\Delta\\lambda\n",
    "$$"
   ]
  },
  {
   "cell_type": "code",
   "execution_count": 11,
   "metadata": {
    "collapsed": false
   },
   "outputs": [],
   "source": [
    "# Creating a dictionary to hold the reflectance values aas tristimulus\n",
    "r = {\"X\": [], \"Y\": [], \"Z\": []}\n",
    "# ------- R_RS * cmf\n",
    "for i in xrange(0, len(cmf)):\n",
    "    r[\"X\"] = irho * cmf[\"x\"]\n",
    "    r[\"Y\"] = irho * cmf[\"y\"]\n",
    "    r[\"Z\"] = irho * cmf[\"z\"]"
   ]
  },
  {
   "cell_type": "code",
   "execution_count": 12,
   "metadata": {
    "collapsed": false
   },
   "outputs": [],
   "source": [
    "# ------ Sum\n",
    "s = {\"X\": [], \"Y\": [], \"Z\": []}\n",
    "\n",
    "s[\"X\"] = sum(r[\"X\"] * Delta_lambda)\n",
    "s[\"Y\"] = sum(r[\"Y\"] * Delta_lambda)\n",
    "s[\"Z\"] = sum(r[\"Z\"] * Delta_lambda)\n",
    "\n",
    "sum_xyz = s[\"X\"] + s[\"Y\"] + s[\"Z\"]"
   ]
  },
  {
   "cell_type": "code",
   "execution_count": 13,
   "metadata": {
    "collapsed": false
   },
   "outputs": [],
   "source": [
    "# ------ chromaticity\n",
    "chrom = {\"x\": [], \"y\": [], \"z\": []}\n",
    "chrom[\"x\"] = s[\"X\"] / sum_xyz\n",
    "chrom[\"y\"] = s[\"Y\"] / sum_xyz\n",
    "chrom[\"z\"] = s[\"Z\"] / sum_xyz\n",
    "\n",
    "sum_chrom_y = chrom[\"x\"] + chrom[\"y\"] + chrom[\"z\"]"
   ]
  },
  {
   "cell_type": "code",
   "execution_count": 14,
   "metadata": {
    "collapsed": true
   },
   "outputs": [],
   "source": [
    "# ______ chromaticity - whiteness\n",
    "chrom_w = {\"x\": [], \"y\": []}\n",
    "chrom_w[\"x\"] = chrom[\"x\"] - (1 / 3)\n",
    "chrom_w[\"y\"] = chrom[\"y\"] - (1 / 3)"
   ]
  },
  {
   "cell_type": "code",
   "execution_count": 6,
   "metadata": {
    "collapsed": true
   },
   "outputs": [],
   "source": [
    "class Forel_Ule(object):\n",
    "    def __init__(self, is_continuous, data):\n",
    "        self.is_continuous = is_continuous\n",
    "        # see Table 3 of Wernand et al 2013 to refer to the angles, alpha, of FU number in degrees and\n",
    "        # the 20 boundary angles or colour transition angles, alpha_T, that are used in the discrete classification of ocean colour\n",
    "        if is_continuous:\n",
    "            self.fui = pd.read_csv(sep = \"\\t\", filepath_or_buffer = \"./data/FUI_ATAN210.tsv\", names = [\"value\", \"alpha\"])            \n",
    "        else:\n",
    "            self.fui = pd.read_csv(sep = \"\\t\", filepath_or_buffer = \"./data/FUI_ATAN2.tsv\", names = [\"alpha\",\"alpha_T\",\"value\"])\n",
    "            \n",
    "        self.fui_length = len(self.fui)\n",
    "        self.cmf = pd.read_csv(sep = \",\", filepath_or_buffer = \"./CIE_(2006)_2-deg_CMF.csv\", names = [\"wavelength\", \"x\", \"y\", \"z\"])\n"
   ]
  },
  {
   "cell_type": "code",
   "execution_count": 19,
   "metadata": {
    "collapsed": false
   },
   "outputs": [],
   "source": [
    "fu = Forel_Ule(is_continuous = True, data=[1,2,3])\n",
    "len(fu.cmf) # 86 # 201 # 441\n",
    "#fu.cmf[\"wavelength\"] > 413,\n",
    "cmf_meris =fu.cmf[(fu.cmf[\"wavelength\"] >= 413)][(fu.cmf[\"wavelength\"]<=708)]"
   ]
  },
  {
   "cell_type": "code",
   "execution_count": null,
   "metadata": {
    "collapsed": true
   },
   "outputs": [],
   "source": [
    "#TODO continue by using the cmf_meris"
   ]
  },
  {
   "cell_type": "code",
   "execution_count": 19,
   "metadata": {
    "collapsed": true
   },
   "outputs": [],
   "source": [
    "# ______ calculate atan2\n",
    "# we use the average atan per scale\n",
    "# a_i, refers to the alpha M angle\n",
    "\n",
    "def fu_M(chrom_w):\n",
    "    \"\"\"\n",
    "    chrom_w is the chromaticity - whiteness\n",
    "    required as dictionary, e.g.\n",
    "    chrom_w = {\"x\": [], \"y\": []}    \n",
    "    \"\"\"\n",
    "    a_i = math.atan2(chrom_w[\"y\"], chrom_w[\"x\"]) * 180 / math.pi\n",
    "\n",
    "    if a_i < 0:\n",
    "        a_i = a_i + 360\n",
    "    else:\n",
    "        a_i = a_i\n",
    "        \n",
    "    # ----- fui approximation\n",
    "\n",
    "    if a_i >= fui[\"continuous\"][\"alpha\"][0]:  # FUI = 1 its > Average\n",
    "        fu_i = 1.0\n",
    "    elif math.isnan(a_i):  # FUI = NAN = 0\n",
    "        fu_i = 0\n",
    "    elif a_i <= fui[\"continuous\"][\"alpha\"][200]:  # FUI = 21\n",
    "        fu_i = 21.0\n",
    "    else:\n",
    "        for c in xrange(0, 200):\n",
    "            if (fui[\"continuous\"][\"alpha\"][c] > a_i) and (a_i >= fui[\"continuous\"][\"alpha\"][c + 1]):\n",
    "                fu_i = fui[\"continuous\"][\"value\"][c + 1]\n",
    "    return fu_i\n",
    "                \n",
    "    "
   ]
  },
  {
   "cell_type": "code",
   "execution_count": 20,
   "metadata": {
    "collapsed": false
   },
   "outputs": [
    {
     "data": {
      "text/plain": [
       "18.800000000000001"
      ]
     },
     "execution_count": 20,
     "metadata": {},
     "output_type": "execute_result"
    }
   ],
   "source": [
    "# The calculated FUI \n",
    "fu_M(chrom_w)"
   ]
  }
 ],
 "metadata": {
  "kernelspec": {
   "display_name": "Python 2",
   "language": "python",
   "name": "python2"
  },
  "language_info": {
   "codemirror_mode": {
    "name": "ipython",
    "version": 2
   },
   "file_extension": ".py",
   "mimetype": "text/x-python",
   "name": "python",
   "nbconvert_exporter": "python",
   "pygments_lexer": "ipython2",
   "version": "2.7.6"
  }
 },
 "nbformat": 4,
 "nbformat_minor": 0
}
