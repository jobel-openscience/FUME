{
 "cells": [
  {
   "cell_type": "code",
   "execution_count": 1,
   "metadata": {
    "collapsed": true
   },
   "outputs": [],
   "source": [
    "__maintainer__ = \"[José M. Beltrán](<jobel.open.science@gmail.com>)\"\n",
    "__modified_from = {\"code\":\"matlab\",\"credits\":\"Shungudzemwoyo Garaba\",\"email\":\"<shungu.garaba@uni-oldenburg.de>\", \"dates\":{\"created\":20110224, \"modified\":20140910}}\n",
    "__credits__ = [\"José M. Beltrán\"]\n",
    "__license__ = \"GPL-3.0\"\n",
    "__status__ = []"
   ]
  },
  {
   "cell_type": "markdown",
   "metadata": {},
   "source": [
    "# Notebook to calculate the Forel-Ule Index"
   ]
  },
  {
   "cell_type": "markdown",
   "metadata": {},
   "source": [
    "**Reference** :\n",
    "Wernand, M. R., Hommersom, a., & Van Der Woerd, H. J. (2013). MERIS-based ocean colour classification with the discrete Forel-Ule scale. Ocean Science, 9, 477–487. doi:10.5194/os-9-477-2013"
   ]
  },
  {
   "cell_type": "markdown",
   "metadata": {},
   "source": [
    "**Bibtex** : \n",
    "@article{Wernand2013, \n",
    "author = {Wernand, M. R. and Hommersom, a. and {Van Der Woerd}, H. J.}, \n",
    "title = {{MERIS-based ocean colour classification with the discrete Forel-Ule scale}},\n",
    "doi = {10.5194/os-9-477-2013},\n",
    "issn = {18120784},\n",
    "journal = {Ocean Science},\n",
    "pages = {477--487},\n",
    "volume = {9},\n",
    "year = {2013}\n",
    "}"
   ]
  },
  {
   "cell_type": "code",
   "execution_count": 2,
   "metadata": {
    "collapsed": true
   },
   "outputs": [],
   "source": [
    "# Keeping a local mathjax for Latex rendering\n",
    "from IPython.external import mathjax  #mathjax.install_mathjax()"
   ]
  },
  {
   "cell_type": "code",
   "execution_count": 1,
   "metadata": {
    "collapsed": true
   },
   "outputs": [],
   "source": [
    "import os\n",
    "import pandas as pd\n",
    "from scipy.interpolate import interp1d\n",
    "import math"
   ]
  },
  {
   "cell_type": "code",
   "execution_count": 3,
   "metadata": {
    "collapsed": true
   },
   "outputs": [],
   "source": [
    "# Set the current working directory\n",
    "os.chdir('/home/jobel/gits/jobel/FUME')"
   ]
  },
  {
   "cell_type": "markdown",
   "metadata": {
    "collapsed": true
   },
   "source": [
    "[**Notes from the colour and vision research laboratory**](http://www.cvrl.org/)\n",
    "\n",
    "The CIE 1931 2-deg CMFs (CIE, 1932), which form the basis for most practical colorimetry, are based on the chromaticity coordinates obtained by Guild (1931) and by Wright (1928). Chromaticity coordinates, however, provide only a relative measure of the ratios of the three primaries needed to match each spectrum color, whereas CMFs specify absolute energy values. In order to reconstruct the CMFs from the Wright and Guild data, it was assumed that the CIE1924 V(l) photopic luminosity function (CIE, 1926) is a linear combination of the three CMFs (see Wyszecki & Stiles, 1982), for a description of the reconstruction and for the tabulated values. \n",
    "\n",
    "It has long been clear that the CIE1924 V(λ) that was used to construct the CIE 1931 2-deg CMFs **seriously underestimates sensitivity at wavelengths below 460 nm**, so that these CMFs are seriously in error at short wavelengths. The Judd and Judd-Vos modifications are attempts to overcome this problem.\n"
   ]
  },
  {
   "cell_type": "code",
   "execution_count": 6,
   "metadata": {
    "collapsed": false
   },
   "outputs": [],
   "source": [
    "#./FUI_CIE1931.csv\n",
    "\n",
    "cmf = pd.read_csv(sep = \",\", filepath_or_buffer = \"./CIE_(2006)_2-deg_CMF.csv\", names = [\"wavelength\", \"x\", \"y\", \"z\"])\n",
    "fui = pd.read_csv(sep = \"\\t\", filepath_or_buffer = \"./data/FUI_ATAN210.tsv\", names = [\"value\", \"atan\"])\n",
    "test = pd.read_csv(sep = \"\\t\", filepath_or_buffer = \"./data/test.tsv\", header = None)\n",
    "# Renaming the columns of the test datafram\n",
    "test.columns = [\"wavelength\", \"y1\", \"y2\", \"y3\", \"y4\"]"
   ]
  },
  {
   "cell_type": "code",
   "execution_count": 10,
   "metadata": {
    "collapsed": false
   },
   "outputs": [],
   "source": [
    "#the interpolating part \n",
    "Delta = 4 # 4nm bins\n",
    "# adds +4 as it should include 720 resulting in 86 values, i.e. matching the len(cmf).\n",
    "xi1 = range(380, 720 + Delta, Delta)  \n"
   ]
  },
  {
   "cell_type": "code",
   "execution_count": null,
   "metadata": {
    "collapsed": true
   },
   "outputs": [],
   "source": [
    "# For linear interpolation you can use:\n",
    "# interp1d(x,y)(new_x) # 'linear' it's the default\n",
    "# or to be more explicit\n",
    "# set_interp = interp1d(x,y, kind='linear')\n",
    "#new_y = set_interp(new_x)"
   ]
  },
  {
   "cell_type": "code",
   "execution_count": 11,
   "metadata": {
    "collapsed": true
   },
   "outputs": [],
   "source": [
    "# retrieving the reflectance values for lambda 380-720nm\n",
    "int_r1 = interp1d(test[\"wavelength\"], test[\"y1\"], kind = 'linear')(xi1)"
   ]
  },
  {
   "cell_type": "code",
   "execution_count": 12,
   "metadata": {
    "collapsed": true
   },
   "outputs": [],
   "source": [
    "# Creating a dictionary to hold the reflectance values aas tristimulus\n",
    "r = {\"x\": [], \"y\": [], \"z\": []}\n",
    "# ------- R_RS * cmf\n",
    "for i in xrange(0, len(cmf)):\n",
    "    r[\"x\"] = int_r1[i] * cmf[\"x\"]\n",
    "    r[\"y\"] = int_r1[i] * cmf[\"y\"]\n",
    "    r[\"z\"] = int_r1[i] * cmf[\"z\"]"
   ]
  },
  {
   "cell_type": "code",
   "execution_count": 13,
   "metadata": {
    "collapsed": true
   },
   "outputs": [],
   "source": [
    "# ------ Sum\n",
    "s = {\"x\": [], \"y\": [], \"z\": []}\n",
    "\n",
    "s[\"x\"] = sum(r[\"x\"] * Delta)\n",
    "s[\"y\"] = sum(r[\"y\"] * Delta)\n",
    "s[\"z\"] = sum(r[\"z\"] * Delta)\n",
    "\n",
    "sum_xyz = s[\"x\"] + s[\"y\"] + s[\"z\"]"
   ]
  },
  {
   "cell_type": "code",
   "execution_count": 14,
   "metadata": {
    "collapsed": true
   },
   "outputs": [],
   "source": [
    "# ------ chromaticity\n",
    "chrom = {\"x\": [], \"y\": [], \"z\": []}\n",
    "chrom[\"x\"] = s[\"x\"] / sum_xyz\n",
    "chrom[\"y\"] = s[\"y\"] / sum_xyz\n",
    "chrom[\"z\"] = s[\"z\"] / sum_xyz\n",
    "\n",
    "sum_chrom_y = chrom[\"x\"] + chrom[\"y\"] + chrom[\"z\"]"
   ]
  },
  {
   "cell_type": "code",
   "execution_count": 15,
   "metadata": {
    "collapsed": true
   },
   "outputs": [],
   "source": [
    "# ______ chromaticity - whiteness\n",
    "chrom_w = {\"x\": [], \"y\": []}\n",
    "chrom_w[\"x\"] = chrom[\"x\"] - (1 / 3)\n",
    "chrom_w[\"y\"] = chrom[\"y\"] - (1 / 3)"
   ]
  },
  {
   "cell_type": "code",
   "execution_count": 16,
   "metadata": {
    "collapsed": true
   },
   "outputs": [],
   "source": [
    "# ______ calculate atan2\n",
    "# we use the average atan per scale\n",
    "a_i = math.atan2(chrom_w[\"y\"], chrom_w[\"x\"]) * 180 / math.pi\n",
    "\n",
    "if a_i < 0:\n",
    "    a_i = a_i + 360\n",
    "else:\n",
    "    a_i = a_i"
   ]
  },
  {
   "cell_type": "code",
   "execution_count": 17,
   "metadata": {
    "collapsed": true
   },
   "outputs": [],
   "source": [
    "# ----- fui approximation\n",
    "\n",
    "if a_i >= fui[\"atan\"][0]:  # FUI = 1 its > Average\n",
    "    fu_i = 1.0\n",
    "elif math.isnan(a_i):  # FUI = NAN = 0\n",
    "    fu_i = 0\n",
    "elif a_i <= fui[\"atan\"][200]:  # FUI = 21\n",
    "    fu_i = 21.0\n",
    "else:\n",
    "    for c in xrange(0, 200):\n",
    "        if (fui[\"atan\"][c] > a_i) and (a_i >= fui[\"atan\"][c + 1]):\n",
    "            fu_i = fui[\"value\"][c + 1]"
   ]
  },
  {
   "cell_type": "code",
   "execution_count": 18,
   "metadata": {
    "collapsed": false
   },
   "outputs": [
    {
     "data": {
      "text/plain": [
       "18.899999999999999"
      ]
     },
     "execution_count": 18,
     "metadata": {},
     "output_type": "execute_result"
    }
   ],
   "source": [
    "# The calculated FUI is\n",
    "fu_i"
   ]
  },
  {
   "cell_type": "code",
   "execution_count": null,
   "metadata": {
    "collapsed": true
   },
   "outputs": [],
   "source": []
  }
 ],
 "metadata": {
  "kernelspec": {
   "display_name": "Python 2",
   "language": "python",
   "name": "python2"
  },
  "language_info": {
   "codemirror_mode": {
    "name": "ipython",
    "version": 2
   },
   "file_extension": ".py",
   "mimetype": "text/x-python",
   "name": "python",
   "nbconvert_exporter": "python",
   "pygments_lexer": "ipython2",
   "version": "2.7.6"
  }
 },
 "nbformat": 4,
 "nbformat_minor": 0
}
